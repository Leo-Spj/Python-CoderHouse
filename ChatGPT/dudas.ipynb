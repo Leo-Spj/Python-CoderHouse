{
 "cells": [
  {
   "cell_type": "code",
   "execution_count": 2,
   "metadata": {},
   "outputs": [
    {
     "name": "stdout",
     "output_type": "stream",
     "text": [
      "[1, 4, 9, 16, 25]\n"
     ]
    }
   ],
   "source": [
    "# Definimos una función que será aplicada a cada elemento de la lista\n",
    "def cuadrado(x):\n",
    "    return x ** 2\n",
    "\n",
    "# Creamos una lista de números\n",
    "numeros = [1, 2, 3, 4, 5]\n",
    "\n",
    "# Usamos map() para aplicar la función cuadrado a cada elemento de la lista\n",
    "resultado = map(cuadrado, numeros)\n",
    "\n",
    "# El resultado es un objeto map, por lo que lo convertimos a una lista para ver los valores\n",
    "resultado_lista = list(resultado)\n",
    "\n",
    "# Imprimimos el resultado\n",
    "print(resultado_lista)"
   ]
  },
  {
   "cell_type": "code",
   "execution_count": 13,
   "metadata": {},
   "outputs": [],
   "source": [
    "# Listas\n",
    "mi_lista = [1, 2, 3, \"cuatro\"]\n",
    "# las listas son mutables y ordenadas, se pueden modificar sus elementos y se puede acceder a ellos por su índice, además son más flexibles que las tuplas\n",
    "# pero son más lentas y ocupan más espacio en memoria, por lo que son menos eficientes que las tuplas pero más flexibles, por lo que se usan cuando se necesita\n",
    "# modificar los elementos de la lista\n",
    "\n",
    "# Tuplas\n",
    "mi_tupla = (1, 2, 3, \"cuatro\")\n",
    "# las tuplas son inmutables y ordenadas, no se pueden modificar sus elementos y se puede acceder a ellos por su índice, ademas son más rápidas que las listas\n",
    "# y ocupan menos espacio en memoria, por lo que son más eficientes que las listas pero menos flexibles, por lo que se usan cuando no se necesita modificar los elementos\n",
    "\n",
    "# Diccionarios\n",
    "mi_diccionario = {\"nombre\": \"Juan\", \"edad\": 30}\n",
    "# los diccionarios son mutables y no están ordenados, se pueden modificar sus elementos y se puede acceder a ellos por su clave, además son más flexibles que\n",
    "# las tuplas pero menos eficientes, por lo que se usan cuando se necesita modificar los elementos del diccionario\n",
    "\n",
    "# Conjuntos\n",
    "mi_conjunto = {1, 2, 3, 4, 5}\n",
    "# los conjuntos son mutables y no están ordenados, se pueden modificar sus elementos y se puede acceder a ellos por su clave, además son más flexibles que\n",
    "# las tuplas pero menos eficientes, por lo que se usan cuando se necesita modificar los elementos del conjunto\n",
    "\n",
    "# Cadenas\n",
    "mi_cadena = \"Hola, mundo\"\n"
   ]
  },
  {
   "cell_type": "code",
   "execution_count": 4,
   "metadata": {},
   "outputs": [],
   "source": [
    "import numpy as np\n",
    "from collections import deque"
   ]
  },
  {
   "cell_type": "code",
   "execution_count": 18,
   "metadata": {},
   "outputs": [
    {
     "name": "stdout",
     "output_type": "stream",
     "text": [
      "Tipo de 'mi_lista': <class 'list'>\n",
      "Tipo de 'mi_tupla': <class 'tuple'>\n",
      "Tipo de 'cuadrados': <class 'map'>\n",
      "Tipo de 'mi_diccionario': <class 'dict'>\n",
      "Tipo de 'mi_conjunto': <class 'set'>\n",
      "Tipo de 'mi_cadena': <class 'str'>\n",
      "Tipo de 'mi_arreglo': <class 'numpy.ndarray'>\n",
      "Tipo de 'mi_deque': <class 'collections.deque'>\n"
     ]
    }
   ],
   "source": [
    "\n",
    "\n",
    "# Arreglos Numéricos (NumPy)\n",
    "# import numpy as np\n",
    "mi_arreglo = np.array([1, 2, 3, 4, 5])\n",
    "\n",
    "# Deque\n",
    "# from collections import deque\n",
    "mi_deque = deque([1, 2, 3, 4, 5])\n",
    "\n",
    "# Listas por comprensión\n",
    "# numeros = [1, 2, 3, 4, 5]\n",
    "# cuadrados = [x ** 2 for x in numeros]\n",
    "\n",
    "# Tambien se puede hacer por medio de la función map()\n",
    "cuadrados = map(cuadrado, numeros)\n",
    "\n",
    "# Imprimir tipos de datos\n",
    "print(\"Tipo de 'mi_lista':\", type(mi_lista))\n",
    "print(\"Tipo de 'mi_tupla':\", type(mi_tupla))\n",
    "print(\"Tipo de 'cuadrados':\", type(cuadrados))\n",
    "print(\"Tipo de 'mi_diccionario':\", type(mi_diccionario))\n",
    "print(\"Tipo de 'mi_conjunto':\", type(mi_conjunto))\n",
    "print(\"Tipo de 'mi_cadena':\", type(mi_cadena))\n",
    "print(\"Tipo de 'mi_arreglo':\", type(mi_arreglo))\n",
    "print(\"Tipo de 'mi_deque':\", type(mi_deque))\n",
    "\n"
   ]
  }
 ],
 "metadata": {
  "kernelspec": {
   "display_name": "Python 3",
   "language": "python",
   "name": "python3"
  },
  "language_info": {
   "codemirror_mode": {
    "name": "ipython",
    "version": 3
   },
   "file_extension": ".py",
   "mimetype": "text/x-python",
   "name": "python",
   "nbconvert_exporter": "python",
   "pygments_lexer": "ipython3",
   "version": "3.11.4"
  },
  "orig_nbformat": 4
 },
 "nbformat": 4,
 "nbformat_minor": 2
}
