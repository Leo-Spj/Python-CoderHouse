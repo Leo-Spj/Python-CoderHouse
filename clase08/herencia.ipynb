{
 "cells": [
  {
   "cell_type": "code",
   "execution_count": 3,
   "metadata": {},
   "outputs": [
    {
     "name": "stdout",
     "output_type": "stream",
     "text": [
      "Soy un Auto\n",
      "Soy un Moto\n"
     ]
    }
   ],
   "source": [
    "class Auto:\n",
    "\n",
    "    def soy(self):\n",
    "        print( f'Soy un', type(self).__name__ )\n",
    "\n",
    "class Moto:\n",
    "\n",
    "    def soy(self):\n",
    "        print( f'Soy un', type(self).__name__ )\n",
    "\n",
    "\n",
    "auto = Auto()\n",
    "auto.soy()\n",
    "\n",
    "moto = Moto()\n",
    "moto.soy()\n"
   ]
  },
  {
   "cell_type": "markdown",
   "metadata": {},
   "source": [
    "## Herencia y optimizacion:"
   ]
  },
  {
   "cell_type": "code",
   "execution_count": 14,
   "metadata": {},
   "outputs": [
    {
     "name": "stdout",
     "output_type": "stream",
     "text": [
      "Soy un Auto Ford con motor 1.6\n",
      "puertas 4\n",
      "Soy un Moto Ford con motor 1.6\n",
      "puertas 2\n"
     ]
    }
   ],
   "source": [
    "class Vehiculo:\n",
    "    def __init__(self, motor, marca):\n",
    "        self.motor = motor\n",
    "        self.marca = marca\n",
    "\n",
    "    def soy(self):\n",
    "        print( f'Soy un', type(self).__name__, self.marca, 'con motor', self.motor )\n",
    "\n",
    "class Auto(Vehiculo):\n",
    "    def __init__(self, motor, marca, ruedas):\n",
    "        super().__init__(motor, marca)\n",
    "        self.ruedas = ruedas\n",
    "\n",
    "class Moto(Vehiculo):\n",
    "    # con args y  kwargs\n",
    "    def __init__(self, cant_ruedas, *args, **kwargs):\n",
    "        super().__init__(*args, **kwargs)\n",
    "        self.ruedas = cant_ruedas\n",
    "\n",
    "auto = Auto('1.6', 'Ford', 4)\n",
    "auto.soy()\n",
    "print(f'puertas', auto.ruedas)\n",
    "\n",
    "moto = Moto(2, '1.6', 'Ford')\n",
    "moto.soy()\n",
    "print(f'puertas',moto.ruedas)\n",
    "\n"
   ]
  }
 ],
 "metadata": {
  "kernelspec": {
   "display_name": "Python 3",
   "language": "python",
   "name": "python3"
  },
  "language_info": {
   "codemirror_mode": {
    "name": "ipython",
    "version": 3
   },
   "file_extension": ".py",
   "mimetype": "text/x-python",
   "name": "python",
   "nbconvert_exporter": "python",
   "pygments_lexer": "ipython3",
   "version": "3.11.5"
  },
  "orig_nbformat": 4
 },
 "nbformat": 4,
 "nbformat_minor": 2
}
