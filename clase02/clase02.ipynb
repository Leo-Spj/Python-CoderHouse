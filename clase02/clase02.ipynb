{
 "cells": [
  {
   "cell_type": "markdown",
   "metadata": {},
   "source": [
    "# Listas"
   ]
  },
  {
   "cell_type": "code",
   "execution_count": 2,
   "metadata": {
    "ExecuteTime": {
     "end_time": "2023-08-27T18:42:52.080614700Z",
     "start_time": "2023-08-27T18:42:52.040830900Z"
    }
   },
   "outputs": [
    {
     "name": "stdout",
     "output_type": "stream",
     "text": [
      "<class 'list'> 11 [2, 4, 6, 3, 5, 7, 3, 2, 5, 7, 9]\n",
      "2\n",
      "4\n",
      "[6, 3, 5]\n"
     ]
    }
   ],
   "source": [
    "lista = [2,4,6,3,5,7,3,2,5,7,9]\n",
    "print(type(lista), len(lista), lista)\n",
    "print(lista[0])\n",
    "print(lista[1])\n",
    "print(lista[2:5])"
   ]
  },
  {
   "cell_type": "code",
   "execution_count": 3,
   "metadata": {
    "ExecuteTime": {
     "end_time": "2023-08-27T18:42:56.987187200Z",
     "start_time": "2023-08-27T18:42:56.962841400Z"
    }
   },
   "outputs": [
    {
     "name": "stdout",
     "output_type": "stream",
     "text": [
      "['gato', 'perro', 'conejo', 'pato']\n",
      "[2, 4, 6, 3, 5, 7, 3, 2, 5, 7, 9, 'gato', 'perro', 'conejo', 'pato']\n"
     ]
    }
   ],
   "source": [
    "lista2 = [\"gato\", \"perro\", \"conejo\", \"pato\"]\n",
    "print(lista2)\n",
    "concatenadas = lista + lista2\n",
    "print(concatenadas)"
   ]
  },
  {
   "cell_type": "code",
   "execution_count": 4,
   "metadata": {
    "ExecuteTime": {
     "end_time": "2023-08-27T18:43:03.316738900Z",
     "start_time": "2023-08-27T18:43:03.290556Z"
    }
   },
   "outputs": [
    {
     "name": "stdout",
     "output_type": "stream",
     "text": [
      "[2, 4, 6, 3, 5, 7, 3, 2, 5, 7, 9, 'hola', 'holaaalsdk']\n"
     ]
    }
   ],
   "source": [
    "string = \"hola\"\n",
    "concatenando = lista + [string] + [\"holaaalsdk\"]\n",
    "print(concatenando)"
   ]
  },
  {
   "cell_type": "code",
   "execution_count": 5,
   "metadata": {
    "ExecuteTime": {
     "end_time": "2023-08-27T18:43:06.292509500Z",
     "start_time": "2023-08-27T18:43:06.271495900Z"
    }
   },
   "outputs": [
    {
     "name": "stdout",
     "output_type": "stream",
     "text": [
      "['primero', 2, 3, 'cuarto']\n"
     ]
    }
   ],
   "source": [
    "numeros = [\"primero\", \"segundo\", \"tercero\", \"cuarto\", \"quinto\"]\n",
    "numeros[1:3] = [2, 3]\n",
    "numeros[4:] = []\n",
    "print(numeros)"
   ]
  },
  {
   "cell_type": "code",
   "execution_count": 27,
   "metadata": {},
   "outputs": [
    {
     "name": "stdout",
     "output_type": "stream",
     "text": [
      "['h', 'o', 'l', 'a']\n"
     ]
    }
   ],
   "source": [
    "print(list(\"hola\"))"
   ]
  },
  {
   "cell_type": "code",
   "execution_count": 32,
   "metadata": {},
   "outputs": [
    {
     "name": "stdout",
     "output_type": "stream",
     "text": [
      "['h', 'o', 'l', 'a', 'cuarto', 'quinto']\n"
     ]
    }
   ],
   "source": [
    "numeros = [\"primero\", \"segundo\", \"tercero\", \"cuarto\", \"quinto\"]\n",
    "numeros[0:3] = \"hola\"\n",
    "print(numeros)"
   ]
  },
  {
   "cell_type": "markdown",
   "metadata": {},
   "source": [
    "# Funciones de Listas"
   ]
  },
  {
   "cell_type": "code",
   "execution_count": 65,
   "metadata": {},
   "outputs": [
    {
     "name": "stdout",
     "output_type": "stream",
     "text": [
      "[1, 2, 3, 4, 5, 6, 7, 8, 9, 'diez']\n",
      "[1, 2, 3, 4, 5, 6, 7, 8, 9, 'diez', 11, 12]\n",
      "[1, 2, 3, 4, 5, 6, 7, 8, 9, 'diez', 11, 12]\n",
      "12\n"
     ]
    }
   ],
   "source": [
    "lista = [1, 2, 3, 4, 5, 6, 7, 8, 9]\n",
    "lista.append(\"diez\")\n",
    "print(lista)\n",
    "lista2 = [11, 12]\n",
    "\n",
    "lista3 = lista + lista2\n",
    "print(lista3)\n",
    "\n",
    "lista.extend(lista2)\n",
    "print(lista)\n",
    "\n",
    "print(len(lista))"
   ]
  },
  {
   "cell_type": "code",
   "execution_count": 48,
   "metadata": {},
   "outputs": [
    {
     "name": "stdout",
     "output_type": "stream",
     "text": [
      "[1, 2, 3, 4, 5, 6, 7, 8]\n",
      "[2, 3, 4, 5, 6, 7, 8]\n"
     ]
    }
   ],
   "source": [
    "lista = [1, 2, 3, 4, 5, 6, 7, 8, 9]\n",
    "lista.pop()\n",
    "print(lista)\n",
    "lista.pop(0)\n",
    "print(lista)"
   ]
  },
  {
   "cell_type": "code",
   "execution_count": 52,
   "metadata": {},
   "outputs": [
    {
     "name": "stdout",
     "output_type": "stream",
     "text": [
      "3\n",
      "2\n",
      "1\n"
     ]
    }
   ],
   "source": [
    "#count\n",
    "lista = [1,2, 1, 3,4,5, 1,6,7,8,9, 9,10]\n",
    "print(lista.count(1))\n",
    "print(lista.count(9))\n",
    "print(lista.count(3))\n"
   ]
  },
  {
   "cell_type": "code",
   "execution_count": 60,
   "metadata": {},
   "outputs": [
    {
     "name": "stdout",
     "output_type": "stream",
     "text": [
      "0\n",
      "5\n"
     ]
    }
   ],
   "source": [
    "#index\n",
    "lista = [1,2,3,4,5,6,7,8,9,10]\n",
    "print(lista.index(1))\n",
    "print(lista.index(6, 3, 9)) # funcion index(valor, inicio, fin)"
   ]
  },
  {
   "cell_type": "markdown",
   "metadata": {},
   "source": [
    "# Tuplas"
   ]
  },
  {
   "cell_type": "code",
   "execution_count": 62,
   "metadata": {},
   "outputs": [
    {
     "name": "stdout",
     "output_type": "stream",
     "text": [
      "<class 'list'>\n",
      "<class 'tuple'>\n",
      "<class 'tuple'>\n",
      "<class 'tuple'>\n",
      "<class 'tuple'>\n"
     ]
    }
   ],
   "source": [
    "# Tuplas:  son inmutables, no se pueden modificar\n",
    "# Listas:  son mutables, se pueden modificar\n",
    "lista = [1,2,3,4,5]\n",
    "tupla = (1,2,3,4,5)\n",
    "tupla2 = 1,2,3,4,5\n",
    "\n",
    "#tuplas de un solo elemento\n",
    "tupla3 = (1,) #se debe poner la coma para que sea tupla\n",
    "tupla4 = 1, #se debe poner la coma para que sea tupla\n",
    "\n",
    "print(type(lista))\n",
    "print(type(tupla))\n",
    "print(type(tupla2))\n",
    "\n",
    "print(type(tupla3))\n",
    "print(type(tupla4))\n",
    "\n",
    "# la ventaja de las tuplas es que son mas rapidas que las listas,\n",
    "# al buscar un elemento o al iterar. consumen menos memoria y combiene usarlas cuando \n",
    "# no se van a modificar los datos"
   ]
  },
  {
   "cell_type": "markdown",
   "metadata": {},
   "source": [
    "# casteando a tupla"
   ]
  },
  {
   "cell_type": "code",
   "execution_count": 70,
   "metadata": {},
   "outputs": [
    {
     "name": "stdout",
     "output_type": "stream",
     "text": [
      "(1, 2, 3, 4, 5, 6, 7, 8, 9, 'diez', 11, 12)\n",
      "[1, 2, 3, 4, 5, 6, 7, 8, 9, 'diez', 11, 12]\n"
     ]
    }
   ],
   "source": [
    "#casteando a tuplas\n",
    "tupla = tuple(lista)\n",
    "print(tupla)\n",
    "\n",
    "#casteando a listas\n",
    "lista2 = list(tupla)\n",
    "print(lista2)"
   ]
  },
  {
   "cell_type": "code",
   "execution_count": 19,
   "metadata": {},
   "outputs": [
    {
     "name": "stdout",
     "output_type": "stream",
     "text": [
      "[8, 7, 6, 5, 4, 3, 2]\n"
     ]
    }
   ],
   "source": [
    "L = [1,2,3,4,5,6,7,8,9,10]\n",
    "\n",
    "#el inverso :\n",
    "Lreverse = L[::-1]\n",
    "print(Lreverse[2:9])"
   ]
  }
 ],
 "metadata": {
  "kernelspec": {
   "display_name": "Python 3",
   "language": "python",
   "name": "python3"
  },
  "language_info": {
   "codemirror_mode": {
    "name": "ipython",
    "version": 3
   },
   "file_extension": ".py",
   "mimetype": "text/x-python",
   "name": "python",
   "nbconvert_exporter": "python",
   "pygments_lexer": "ipython3",
   "version": "3.11.4"
  },
  "orig_nbformat": 4
 },
 "nbformat": 4,
 "nbformat_minor": 2
}
