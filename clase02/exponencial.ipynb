{
 "cells": [
  {
   "cell_type": "code",
   "execution_count": 15,
   "metadata": {},
   "outputs": [
    {
     "name": "stdout",
     "output_type": "stream",
     "text": [
      "Tamaño de entrada: 5000000000, Tiempo: 59.862346 segundos\n"
     ]
    }
   ],
   "source": [
    "import time\n",
    "\n",
    "def funcion_tiempo_exponencial(n):\n",
    "    start_time = time.time()\n",
    "\n",
    "    num = 2 ** n\n",
    "     \n",
    "    end_time = time.time()\n",
    "    elapsed_time = end_time - start_time\n",
    "    return elapsed_time\n",
    "\n",
    "\n",
    "entrada = 5000000000\n",
    "tiempo = funcion_tiempo_exponencial(entrada)\n",
    "print(f\"Tamaño de entrada: {entrada}, Tiempo: {tiempo:.6f} segundos\")\n"
   ]
  }
 ],
 "metadata": {
  "kernelspec": {
   "display_name": "Python 3",
   "language": "python",
   "name": "python3"
  },
  "language_info": {
   "codemirror_mode": {
    "name": "ipython",
    "version": 3
   },
   "file_extension": ".py",
   "mimetype": "text/x-python",
   "name": "python",
   "nbconvert_exporter": "python",
   "pygments_lexer": "ipython3",
   "version": "3.11.4"
  },
  "orig_nbformat": 4
 },
 "nbformat": 4,
 "nbformat_minor": 2
}
