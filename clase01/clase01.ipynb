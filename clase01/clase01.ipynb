{
 "cells": [
  {
   "cell_type": "code",
   "execution_count": null,
   "metadata": {},
   "outputs": [],
   "source": [
    "print(type(\"hola\"))\n",
    "print(type(1))\n",
    "print(type(1.0))\n",
    "print(type(1.1j))\n",
    "print(type(True))\n",
    "print(type([]))\n",
    "print(type(()))\n",
    "print(type({}))"
   ]
  },
  {
   "cell_type": "code",
   "execution_count": null,
   "metadata": {},
   "outputs": [],
   "source": [
    "print(1-1)\n",
    "print(1+1)\n",
    "print(1*3)\n",
    "print(\"Divicion decimal\")\n",
    "print(5/3)\n",
    "print(\"Divicion entera, trunca el decimal\")\n",
    "print(5//3)\n",
    "print(\"Modulo o residuo\")\n",
    "print(5%3)\n",
    "print(2**3)\n"
   ]
  },
  {
   "cell_type": "code",
   "execution_count": null,
   "metadata": {},
   "outputs": [],
   "source": [
    "print(r\"C:\\Users\\alumno\\Documents\\GitHub\\python-ml-course\\datasets\")\n",
    "# r de raw, no interpreta los caracteres especiales"
   ]
  },
  {
   "cell_type": "code",
   "execution_count": null,
   "metadata": {},
   "outputs": [],
   "source": [
    "print(f\"Tengo {20+20} dolares\")\n",
    "# f de format, se puede poner cualquier expresion"
   ]
  },
  {
   "cell_type": "code",
   "execution_count": null,
   "metadata": {},
   "outputs": [],
   "source": [
    "nombre = input(\"Ingrese su nombre: \")\n",
    "print(\"Hola\", nombre)"
   ]
  },
  {
   "cell_type": "code",
   "execution_count": 75,
   "metadata": {},
   "outputs": [
    {
     "name": "stdout",
     "output_type": "stream",
     "text": [
      "<class 'int'>\n",
      "5\n"
     ]
    }
   ],
   "source": [
    "numero = int(input(\"Ingrese un numero: \"))\n",
    "print(type(numero))\n",
    "print(numero)"
   ]
  },
  {
   "cell_type": "code",
   "execution_count": 78,
   "metadata": {},
   "outputs": [
    {
     "name": "stdout",
     "output_type": "stream",
     "text": [
      "<class 'float'>\n",
      "7.0\n"
     ]
    }
   ],
   "source": [
    "numero = float(input(\"Ingrese un numero: \"))\n",
    "print(type(numero))\n",
    "print(numero)"
   ]
  },
  {
   "cell_type": "code",
   "execution_count": 108,
   "metadata": {},
   "outputs": [
    {
     "name": "stdout",
     "output_type": "stream",
     "text": [
      "L\n",
      "eonar\n",
      "d\n",
      "ona\n",
      "eo -> 3 parametros\n",
      "Leonardo\n",
      "odranoeL -> inverso\n",
      "Load -> salto de 2 en 2\n",
      "o -> salto de 3 en 3 desde el 2do caracter\n"
     ]
    }
   ],
   "source": [
    "texto = \"Leonardo\"\n",
    "print(texto[0])\n",
    "print(texto[1:6])\n",
    "print(texto[-2])\n",
    "print(texto[2:-3])\n",
    "print(texto[1:3:1] + \" -> 3 parametros\")\n",
    "print(texto[::1])\n",
    "print(texto[::-1] + \" -> inverso\" )\n",
    "print(texto[::2] + \" -> salto de 2 en 2\")\n",
    "print(texto[2::-3] + \" -> salto de 3 en 3 desde el 2do caracter\" ) "
   ]
  },
  {
   "cell_type": "code",
   "execution_count": 110,
   "metadata": {},
   "outputs": [
    {
     "name": "stdout",
     "output_type": "stream",
     "text": [
      "4\n"
     ]
    }
   ],
   "source": [
    "# mostrar la longitud de un string\n",
    "Nombre = \"Juan\"\n",
    "print(len(Nombre))"
   ]
  },
  {
   "cell_type": "markdown",
   "metadata": {},
   "source": [
    "## Ejercicio en Clase 01"
   ]
  },
  {
   "cell_type": "code",
   "execution_count": 114,
   "metadata": {},
   "outputs": [
    {
     "name": "stdout",
     "output_type": "stream",
     "text": [
      "Python es un lenguaje de programación versátil\n",
      "Python es un lenguaje de programación versátil\n"
     ]
    }
   ],
   "source": [
    "# concatenar correctamente\n",
    "cadena_1  =\"versátil\"\n",
    "cadena_2  = \"Python\"\n",
    "cadena_3  = \"es un lenguaje\"\n",
    "cadena_4  = \"de programación\"\n",
    "\n",
    "# Resultado esperado:\n",
    "# Python es un lenguaje de programación versátil\n",
    "print(cadena_2, cadena_3, cadena_4, cadena_1)\n",
    "print(f\"{cadena_2} {cadena_3} {cadena_4} {cadena_1}\")"
   ]
  }
 ],
 "metadata": {
  "kernelspec": {
   "display_name": "Python 3",
   "language": "python",
   "name": "python3"
  },
  "language_info": {
   "codemirror_mode": {
    "name": "ipython",
    "version": 3
   },
   "file_extension": ".py",
   "mimetype": "text/x-python",
   "name": "python",
   "nbconvert_exporter": "python",
   "pygments_lexer": "ipython3",
   "version": "3.11.4"
  },
  "orig_nbformat": 4
 },
 "nbformat": 4,
 "nbformat_minor": 2
}
