{
 "cells": [
  {
   "cell_type": "markdown",
   "metadata": {},
   "source": [
    "# Registro y acceso de usuarios - persistencia en archivos"
   ]
  },
  {
   "cell_type": "markdown",
   "metadata": {},
   "source": [
    "## Clase usuarios:"
   ]
  },
  {
   "cell_type": "code",
   "execution_count": 136,
   "metadata": {},
   "outputs": [],
   "source": [
    "class Usuario:\n",
    "\n",
    "    nick = \"\"\n",
    "    contrasena = \"\"\n",
    "\n",
    "    def __init__(self, nick, contrasena):\n",
    "        self.nick = nick\n",
    "        self.contrasena = contrasena\n",
    "\n",
    "    "
   ]
  },
  {
   "cell_type": "markdown",
   "metadata": {},
   "source": [
    "## Clase controladora de usuarios:"
   ]
  },
  {
   "cell_type": "code",
   "execution_count": 137,
   "metadata": {},
   "outputs": [],
   "source": [
    "#con persistencia en archivos\n",
    "\n",
    "import json\n",
    "\n",
    "\n",
    "class ControladorUsuario:\n",
    "\n",
    "    def agregarUsuario(self, usuario):\n",
    "        with open(\"usuarios.json\", \"a+\") as archivo: # a+ es leer y escribir \n",
    "            archivo.seek(0)\n",
    "            contenido = archivo.read()\n",
    "            if len(contenido) == 0:\n",
    "                archivo.write(json.dumps([usuario.__dict__]))\n",
    "            else:\n",
    "                archivo.seek(0)\n",
    "                listaUsuarios = json.load(archivo)\n",
    "\n",
    "                for usuarioNick in listaUsuarios:\n",
    "                    if usuarioNick[\"nick\"] == usuario.nick:\n",
    "                        return \"El nick ya existe\"\n",
    "                    \n",
    "                listaUsuarios.append(usuario.__dict__)\n",
    "                archivo.seek(0)\n",
    "                archivo.truncate() # borro todo el contenido\n",
    "                archivo.write(json.dumps(listaUsuarios))\n",
    "\n",
    "    def iniciarSesion(self, nick, contrasena):\n",
    "        with open(\"usuarios.json\", \"r\") as archivo:\n",
    "            listaUsuarios = json.load(archivo)\n",
    "            for usuario in listaUsuarios:\n",
    "                if usuario[\"nick\"] == nick and usuario[\"contrasena\"] == contrasena:\n",
    "                    return \"Bienvenido \" + usuario[\"nick\"]\n",
    "            return \"Usuario o contraseña incorrectos\"\n"
   ]
  },
  {
   "cell_type": "code",
   "execution_count": 138,
   "metadata": {},
   "outputs": [],
   "source": [
    "#añadiendo usuarios\n",
    "controlador = ControladorUsuario()\n",
    "\n",
    "usuario = Usuario(\"Juan\", \"1234\")\n",
    "usuario2 = Usuario(\"Pedro\", \"1234\")\n",
    "\n",
    "controlador.agregarUsuario(usuario)\n",
    "controlador.agregarUsuario(usuario2)"
   ]
  },
  {
   "cell_type": "code",
   "execution_count": 139,
   "metadata": {},
   "outputs": [
    {
     "name": "stdout",
     "output_type": "stream",
     "text": [
      "Bienvenido Pedro\n"
     ]
    }
   ],
   "source": [
    "#iniciando sesion\n",
    "print(controlador.iniciarSesion(\"Pedro\", \"1234\"))"
   ]
  },
  {
   "cell_type": "code",
   "execution_count": 140,
   "metadata": {},
   "outputs": [],
   "source": [
    "# pedir que se registre un usuario\n",
    "nombre = input(\"Crea un NickName: \")\n",
    "contrasena = input(\"Cree su contraseña: \")\n",
    "\n",
    "usuario = Usuario(nombre, contrasena)\n",
    "controlador.agregarUsuario(usuario)"
   ]
  },
  {
   "cell_type": "code",
   "execution_count": 142,
   "metadata": {},
   "outputs": [
    {
     "name": "stdout",
     "output_type": "stream",
     "text": [
      "Usuario o contraseña incorrectos\n"
     ]
    }
   ],
   "source": [
    "# iniciando sesion\n",
    "nick = input(\"Ingrese su NickName: \")\n",
    "contrasena = input(\"Ingrese su contraseña: \")\n",
    "print(controlador.iniciarSesion(nick, contrasena))"
   ]
  }
 ],
 "metadata": {
  "kernelspec": {
   "display_name": "Python 3",
   "language": "python",
   "name": "python3"
  },
  "language_info": {
   "codemirror_mode": {
    "name": "ipython",
    "version": 3
   },
   "file_extension": ".py",
   "mimetype": "text/x-python",
   "name": "python",
   "nbconvert_exporter": "python",
   "pygments_lexer": "ipython3",
   "version": "3.11.4"
  },
  "orig_nbformat": 4
 },
 "nbformat": 4,
 "nbformat_minor": 2
}
