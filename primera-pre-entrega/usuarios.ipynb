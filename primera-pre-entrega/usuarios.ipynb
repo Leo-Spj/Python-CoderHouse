{
 "cells": [
  {
   "cell_type": "markdown",
   "metadata": {},
   "source": [
    "# Registro y acceso de usuarios - persistencia en archivos"
   ]
  },
  {
   "cell_type": "code",
   "execution_count": 215,
   "metadata": {},
   "outputs": [],
   "source": [
    "class Usuario:\n",
    "\n",
    "    nick = \"\"\n",
    "    contrasena = \"\"\n",
    "\n",
    "    def __init__(self, nick, contrasena):\n",
    "        self.nick = nick\n",
    "        self.contrasena = contrasena"
   ]
  },
  {
   "cell_type": "code",
   "execution_count": 216,
   "metadata": {},
   "outputs": [],
   "source": [
    "#con persistencia en archivos\n",
    "\n",
    "import json\n",
    "\n",
    "\n",
    "class ControladorUsuario:\n",
    "\n",
    "    def agregarUsuario(self, usuario):\n",
    "        with open(\"usuarios.json\", \"a+\") as archivo: # a+ es leer y escribir \n",
    "            archivo.seek(0)\n",
    "            contenido = archivo.read()\n",
    "            \n",
    "            if len(contenido) == 0:\n",
    "                json.dump([usuario.__dict__], archivo)\n",
    "            else:\n",
    "                archivo.seek(0)\n",
    "                listaUsuarios = json.load(archivo)\n",
    "\n",
    "                for usuarioNick in listaUsuarios:\n",
    "                    if usuarioNick[\"nick\"] == usuario.nick:\n",
    "                        return \"El nick ya existe, elija otro\"\n",
    "                    \n",
    "                listaUsuarios.append(usuario.__dict__)\n",
    "                archivo.seek(0)\n",
    "                archivo.truncate() # borro todo el contenido\n",
    "                json.dump(listaUsuarios, archivo)\n",
    "\n",
    "    def iniciarSesion(self, nick, contrasena):\n",
    "\n",
    "        with open(\"usuarios.json\", \"a+\") as archivo:\n",
    "            archivo.seek(0)\n",
    "            contenido = archivo.read()\n",
    "            if len(contenido) == 0:\n",
    "                json.dump([], archivo)\n",
    "\n",
    "        with open(\"usuarios.json\", \"r\") as archivo:\n",
    "            listaUsuarios = json.load(archivo)\n",
    "            if len(listaUsuarios) > 0:\n",
    "                for usuario in listaUsuarios:\n",
    "                    if usuario[\"nick\"] == nick and usuario[\"contrasena\"] == contrasena:\n",
    "                        return \"Bienvenido \" + usuario[\"nick\"]\n",
    "                return \"Usuario o contraseña incorrectos\"\n",
    "            else:\n",
    "                return \"No hay usuarios registrados\"\n"
   ]
  },
  {
   "cell_type": "markdown",
   "metadata": {},
   "source": [
    "### Creando algunos usuarios:"
   ]
  },
  {
   "cell_type": "code",
   "execution_count": 217,
   "metadata": {},
   "outputs": [],
   "source": [
    "controlador = ControladorUsuario()"
   ]
  },
  {
   "cell_type": "code",
   "execution_count": 229,
   "metadata": {},
   "outputs": [
    {
     "data": {
      "text/plain": [
       "'El nick ya existe, elija otro'"
      ]
     },
     "execution_count": 229,
     "metadata": {},
     "output_type": "execute_result"
    }
   ],
   "source": [
    "#añadiendo usuarios\n",
    "\n",
    "usuario2 = Usuario(\"leo123\", \"1234\")\n",
    "controlador.agregarUsuario(usuario2)\n",
    "\n",
    "usuario = Usuario(\"clau123\", \"1234\")\n",
    "controlador.agregarUsuario(usuario)"
   ]
  },
  {
   "cell_type": "markdown",
   "metadata": {},
   "source": [
    "# Registro e Inicio de sesión:"
   ]
  },
  {
   "cell_type": "markdown",
   "metadata": {},
   "source": [
    "#### Registro de usuarios:"
   ]
  },
  {
   "cell_type": "code",
   "execution_count": 237,
   "metadata": {},
   "outputs": [],
   "source": [
    "nombre = input(\"Crea un NickName: \")\n",
    "contrasena = input(\"Cree su contraseña: \")\n",
    "\n",
    "usuario = Usuario(nombre, contrasena)\n",
    "controlador.agregarUsuario(usuario)"
   ]
  },
  {
   "cell_type": "markdown",
   "metadata": {},
   "source": [
    "#### Inicio de sesión:"
   ]
  },
  {
   "cell_type": "code",
   "execution_count": 238,
   "metadata": {},
   "outputs": [
    {
     "name": "stdout",
     "output_type": "stream",
     "text": [
      "Bienvenido leo123\n"
     ]
    }
   ],
   "source": [
    "nick = input(\"Ingrese su NickName: \")\n",
    "contrasena = input(\"Ingrese su contraseña: \")\n",
    "print(controlador.iniciarSesion(nick, contrasena))"
   ]
  },
  {
   "cell_type": "markdown",
   "metadata": {},
   "source": [
    "#### Listado de usuarios:"
   ]
  },
  {
   "cell_type": "code",
   "execution_count": 239,
   "metadata": {},
   "outputs": [
    {
     "name": "stdout",
     "output_type": "stream",
     "text": [
      "{'nick': 'leo123', 'contrasena': '123123'}\n"
     ]
    }
   ],
   "source": [
    "# si estixte el archiv\n",
    "import os\n",
    "\n",
    "if os.path.exists(\"usuarios.json\"):\n",
    "    \n",
    "    with open(\"usuarios.json\", \"r\") as archivo:\n",
    "        listaUsuarios = json.load(archivo)\n",
    "        for usuario in listaUsuarios:\n",
    "            print(usuario)\n",
    "else:\n",
    "    print(\"El archivo no existe\")"
   ]
  },
  {
   "cell_type": "code",
   "execution_count": null,
   "metadata": {},
   "outputs": [],
   "source": []
  }
 ],
 "metadata": {
  "kernelspec": {
   "display_name": "Python 3",
   "language": "python",
   "name": "python3"
  },
  "language_info": {
   "codemirror_mode": {
    "name": "ipython",
    "version": 3
   },
   "file_extension": ".py",
   "mimetype": "text/x-python",
   "name": "python",
   "nbconvert_exporter": "python",
   "pygments_lexer": "ipython3",
   "version": "3.11.4"
  },
  "orig_nbformat": 4
 },
 "nbformat": 4,
 "nbformat_minor": 2
}
