{
 "cells": [
  {
   "cell_type": "markdown",
   "metadata": {},
   "source": [
    "# Registro y acceso de usuarios - persistencia en archivos"
   ]
  },
  {
   "cell_type": "markdown",
   "metadata": {},
   "source": [
    "## Clase usuarios:"
   ]
  },
  {
   "cell_type": "code",
   "execution_count": 123,
   "metadata": {},
   "outputs": [],
   "source": [
    "class Usuario:\n",
    "\n",
    "    nombre = \"\"\n",
    "    edad = 0\n",
    "    correo = \"\"\n",
    "    contrasena = \"\"\n",
    "\n",
    "    def __init__(self, nombre, edad, correo, contrasena):\n",
    "        self.nombre = nombre.title()\n",
    "        edad_p = int(edad)\n",
    "        self.edad = edad_p\n",
    "        self.correo = correo.lower()\n",
    "        self.contrasena = contrasena\n",
    "\n",
    "    "
   ]
  },
  {
   "cell_type": "markdown",
   "metadata": {},
   "source": [
    "## Clase controladora de usuarios:"
   ]
  },
  {
   "cell_type": "code",
   "execution_count": 124,
   "metadata": {},
   "outputs": [],
   "source": [
    "#con persistencia en archivos\n",
    "\n",
    "import json\n",
    "\n",
    "\n",
    "class ControladorUsuario:\n",
    "\n",
    "    def agregarUsuario(self, usuario):\n",
    "        with open(\"usuarios.json\", \"a+\") as archivo:\n",
    "            archivo.seek(0)\n",
    "            contenido = archivo.read()\n",
    "            if len(contenido) == 0:\n",
    "                archivo.write(json.dumps([usuario.__dict__]))\n",
    "            else:\n",
    "                archivo.seek(0)\n",
    "                listaUsuarios = json.load(archivo)\n",
    "                listaUsuarios.append(usuario.__dict__)\n",
    "                archivo.seek(0)\n",
    "                archivo.truncate() # borro todo el contenido\n",
    "                archivo.write(json.dumps(listaUsuarios))\n",
    "\n",
    "    def iniciarSesion(self, correo, contrasena):\n",
    "        with open(\"usuarios.json\", \"r\") as archivo:\n",
    "            listaUsuarios = json.load(archivo)\n",
    "            for usuario in listaUsuarios:\n",
    "                if usuario[\"correo\"] == correo and usuario[\"contrasena\"] == contrasena:\n",
    "                    return \"Bienvenido \" + usuario[\"nombre\"]\n",
    "            return \"Usuario o contraseña incorrectos\"\n"
   ]
  },
  {
   "cell_type": "code",
   "execution_count": 125,
   "metadata": {},
   "outputs": [],
   "source": [
    "#añadiendo usuarios\n",
    "controlador = ControladorUsuario()\n",
    "\n",
    "usuario = Usuario(\"Juan\", 20, \"juan@correo.com\", \"1234\")\n",
    "usuario2 = Usuario(\"Pedro\", 20, \"pedro@correo.com\", \"1234\")\n",
    "\n",
    "controlador.agregarUsuario(usuario)\n",
    "controlador.agregarUsuario(usuario2)"
   ]
  },
  {
   "cell_type": "code",
   "execution_count": 126,
   "metadata": {},
   "outputs": [
    {
     "name": "stdout",
     "output_type": "stream",
     "text": [
      "Bienvenido Pedro\n"
     ]
    }
   ],
   "source": [
    "#iniciando sesion\n",
    "print(controlador.iniciarSesion(\"pedro@correo.com\", \"1234\"))"
   ]
  },
  {
   "cell_type": "code",
   "execution_count": 88,
   "metadata": {},
   "outputs": [],
   "source": [
    "# pedir que se registre un usuario\n",
    "nombre = input(\"Ingrese su nombre: \")\n",
    "edad = input(\"Ingrese su edad: \")\n",
    "correo = input(\"Ingrese su correo: \")\n",
    "contrasena = input(\"Ingrese su contraseña: \")\n",
    "\n",
    "usuario = Usuario(nombre, edad, correo, contrasena)\n",
    "controlador.agregarUsuario(usuario)"
   ]
  },
  {
   "cell_type": "code",
   "execution_count": 91,
   "metadata": {},
   "outputs": [
    {
     "name": "stdout",
     "output_type": "stream",
     "text": [
      "Bienvenid@ Leo\n"
     ]
    }
   ],
   "source": [
    "# iniciando sesion\n",
    "correo = input(\"Ingrese su correo: \")\n",
    "contrasena = input(\"Ingrese su contraseña: \")\n",
    "print(controlador.iniciarSesion(correo, contrasena))"
   ]
  }
 ],
 "metadata": {
  "kernelspec": {
   "display_name": "Python 3",
   "language": "python",
   "name": "python3"
  },
  "language_info": {
   "codemirror_mode": {
    "name": "ipython",
    "version": 3
   },
   "file_extension": ".py",
   "mimetype": "text/x-python",
   "name": "python",
   "nbconvert_exporter": "python",
   "pygments_lexer": "ipython3",
   "version": "3.11.4"
  },
  "orig_nbformat": 4
 },
 "nbformat": 4,
 "nbformat_minor": 2
}
