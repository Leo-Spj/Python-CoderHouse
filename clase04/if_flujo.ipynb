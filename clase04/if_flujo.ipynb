{
 "cells": [
  {
   "cell_type": "code",
   "execution_count": 1,
   "metadata": {
    "ExecuteTime": {
     "end_time": "2023-08-31T01:24:17.610490400Z",
     "start_time": "2023-08-31T01:24:14.115504500Z"
    }
   },
   "outputs": [
    {
     "name": "stdout",
     "output_type": "stream",
     "text": [
      "El numero 5 es positivo\n"
     ]
    }
   ],
   "source": [
    "# IF \n",
    "\n",
    "numero =  int(input(\"Ingrese un numero: \"))\n",
    "\n",
    "if numero > 0:\n",
    "    print(f'El numero {numero} es positivo')\n",
    "elif numero < 0:\n",
    "    print(f'El numero {numero} es negativo')\n",
    "else:\n",
    "    print(f'El numero {numero} es cero')\n"
   ]
  }
 ],
 "metadata": {
  "kernelspec": {
   "display_name": "Python 3",
   "language": "python",
   "name": "python3"
  },
  "language_info": {
   "codemirror_mode": {
    "name": "ipython",
    "version": 3
   },
   "file_extension": ".py",
   "mimetype": "text/x-python",
   "name": "python",
   "nbconvert_exporter": "python",
   "pygments_lexer": "ipython3",
   "version": "3.11.4"
  },
  "orig_nbformat": 4
 },
 "nbformat": 4,
 "nbformat_minor": 2
}
