{
 "cells": [
  {
   "cell_type": "markdown",
   "source": [
    "# Esto es un diccionario, contiene una clave y un valor"
   ],
   "metadata": {
    "collapsed": false
   },
   "id": "3372b354cbfd6ab"
  },
  {
   "cell_type": "code",
   "execution_count": 9,
   "id": "initial_id",
   "metadata": {
    "collapsed": true,
    "ExecuteTime": {
     "end_time": "2023-08-31T01:34:11.549543300Z",
     "start_time": "2023-08-31T01:34:11.541844600Z"
    }
   },
   "outputs": [
    {
     "name": "stdout",
     "output_type": "stream",
     "text": [
      "Matematica tiene 6 creditos\n",
      "Fisica tiene 4 creditos\n",
      "Quimica tiene 5 creditos\n",
      "Programacion tiene 5 creditos\n",
      "Ingles tiene 2 creditos\n",
      "La suma de los creditos es 22\n"
     ]
    }
   ],
   "source": [
    "\n",
    "creditos = {'Matematica': 6, 'Fisica': 4, 'Quimica': 5, 'Programacion': 5, 'Ingles': 2} \n",
    "\n",
    "for key in creditos:\n",
    "    print(f\"{key} tiene {creditos[key]} creditos\")\n",
    "    \n",
    "#sumando creditos:\n",
    "suma = 0\n",
    "for key in creditos:\n",
    "    suma += creditos[key]\n",
    "    \n",
    "print(f\"La suma de los creditos es {suma}\")"
   ]
  }
 ],
 "metadata": {
  "kernelspec": {
   "display_name": "Python 3",
   "language": "python",
   "name": "python3"
  },
  "language_info": {
   "codemirror_mode": {
    "name": "ipython",
    "version": 2
   },
   "file_extension": ".py",
   "mimetype": "text/x-python",
   "name": "python",
   "nbconvert_exporter": "python",
   "pygments_lexer": "ipython2",
   "version": "2.7.6"
  }
 },
 "nbformat": 4,
 "nbformat_minor": 5
}
